{
 "cells": [
  {
   "attachments": {},
   "cell_type": "markdown",
   "metadata": {},
   "source": [
    "## Mid-Semester Project - CS 181\n",
    "\n",
    "**Stage**: #3 - Data Cleaning and Processing\n",
    "\n",
    "**Name**: Hieu Tran\n",
    "\n",
    "**Central Question**: The average duration and ratio between movies and TV shows of popular streaming services."
   ]
  },
  {
   "cell_type": "code",
   "execution_count": 1,
   "metadata": {},
   "outputs": [],
   "source": [
    "# import necessary modules\n",
    "import os\n",
    "import os.path\n",
    "import pandas as pd\n",
    "import csv\n",
    "from statistics import mean"
   ]
  },
  {
   "attachments": {},
   "cell_type": "markdown",
   "metadata": {},
   "source": [
    "**Stage #2 - Data Parsing**"
   ]
  },
  {
   "cell_type": "code",
   "execution_count": 2,
   "metadata": {},
   "outputs": [],
   "source": [
    "# Amazon Prime\n",
    "with open (\"data/amazon_prime_titles.csv\", 'r') as amazon:\n",
    "    header = amazon.readline().strip().split(',')\n",
    "    amazon_DoL = {}\n",
    "    \n",
    "    for line in csv.reader(amazon): \n",
    "        for i in range(len(header)):\n",
    "            amazon_DoL.setdefault(header[i], []).append(line[i]) \n",
    "\n",
    "amazon_df = pd.DataFrame(amazon_DoL)\n",
    "\n",
    "\n",
    "# Disney Plus\n",
    "with open (\"data/disney_plus_titles.csv\", 'r') as disney:\n",
    "    header = disney.readline().strip().split(',')\n",
    "    disney_file = []\n",
    "        \n",
    "    for line in csv.reader(disney):\n",
    "        disney_file.append(line)\n",
    "\n",
    "disney_df = pd.DataFrame(disney_file, columns=header) \n",
    "\n",
    "# Netflix\n",
    "netflix_df = pd.read_csv('data/netflix_titles.csv')\n",
    "\n",
    "# Hulu\n",
    "hulu_df = pd.read_csv('data/hulu_titles.csv')\n"
   ]
  },
  {
   "attachments": {},
   "cell_type": "markdown",
   "metadata": {},
   "source": [
    "**1. Cleaning the data**"
   ]
  },
  {
   "attachments": {},
   "cell_type": "markdown",
   "metadata": {},
   "source": [
    "Here, we will select only the 4 columns (`show_id`, `title`, `type`, and `duration`) from each DataFrame, and concatenate those DataFrames into one."
   ]
  },
  {
   "cell_type": "code",
   "execution_count": 3,
   "metadata": {},
   "outputs": [
    {
     "data": {
      "text/html": [
       "<div>\n",
       "<style scoped>\n",
       "    .dataframe tbody tr th:only-of-type {\n",
       "        vertical-align: middle;\n",
       "    }\n",
       "\n",
       "    .dataframe tbody tr th {\n",
       "        vertical-align: top;\n",
       "    }\n",
       "\n",
       "    .dataframe thead th {\n",
       "        text-align: right;\n",
       "    }\n",
       "</style>\n",
       "<table border=\"1\" class=\"dataframe\">\n",
       "  <thead>\n",
       "    <tr style=\"text-align: right;\">\n",
       "      <th></th>\n",
       "      <th></th>\n",
       "      <th>title</th>\n",
       "      <th>type</th>\n",
       "      <th>duration</th>\n",
       "    </tr>\n",
       "    <tr>\n",
       "      <th>service</th>\n",
       "      <th>show_id</th>\n",
       "      <th></th>\n",
       "      <th></th>\n",
       "      <th></th>\n",
       "    </tr>\n",
       "  </thead>\n",
       "  <tbody>\n",
       "    <tr>\n",
       "      <th rowspan=\"5\" valign=\"top\">Amazon</th>\n",
       "      <th>s1</th>\n",
       "      <td>The Grand Seduction</td>\n",
       "      <td>Movie</td>\n",
       "      <td>113 min</td>\n",
       "    </tr>\n",
       "    <tr>\n",
       "      <th>s2</th>\n",
       "      <td>Take Care Good Night</td>\n",
       "      <td>Movie</td>\n",
       "      <td>110 min</td>\n",
       "    </tr>\n",
       "    <tr>\n",
       "      <th>s3</th>\n",
       "      <td>Secrets of Deception</td>\n",
       "      <td>Movie</td>\n",
       "      <td>74 min</td>\n",
       "    </tr>\n",
       "    <tr>\n",
       "      <th>s4</th>\n",
       "      <td>Pink: Staying True</td>\n",
       "      <td>Movie</td>\n",
       "      <td>69 min</td>\n",
       "    </tr>\n",
       "    <tr>\n",
       "      <th>s5</th>\n",
       "      <td>Monster Maker</td>\n",
       "      <td>Movie</td>\n",
       "      <td>45 min</td>\n",
       "    </tr>\n",
       "    <tr>\n",
       "      <th>...</th>\n",
       "      <th>...</th>\n",
       "      <td>...</td>\n",
       "      <td>...</td>\n",
       "      <td>...</td>\n",
       "    </tr>\n",
       "    <tr>\n",
       "      <th rowspan=\"5\" valign=\"top\">Hulu</th>\n",
       "      <th>s3069</th>\n",
       "      <td>Star Trek: The Original Series</td>\n",
       "      <td>TV Show</td>\n",
       "      <td>3 Seasons</td>\n",
       "    </tr>\n",
       "    <tr>\n",
       "      <th>s3070</th>\n",
       "      <td>Star Trek: Voyager</td>\n",
       "      <td>TV Show</td>\n",
       "      <td>7 Seasons</td>\n",
       "    </tr>\n",
       "    <tr>\n",
       "      <th>s3071</th>\n",
       "      <td>The Fades</td>\n",
       "      <td>TV Show</td>\n",
       "      <td>1 Season</td>\n",
       "    </tr>\n",
       "    <tr>\n",
       "      <th>s3072</th>\n",
       "      <td>The Twilight Zone</td>\n",
       "      <td>TV Show</td>\n",
       "      <td>5 Seasons</td>\n",
       "    </tr>\n",
       "    <tr>\n",
       "      <th>s3073</th>\n",
       "      <td>Tokyo Magnitude 8.0</td>\n",
       "      <td>TV Show</td>\n",
       "      <td>1 Season</td>\n",
       "    </tr>\n",
       "  </tbody>\n",
       "</table>\n",
       "<p>22998 rows × 3 columns</p>\n",
       "</div>"
      ],
      "text/plain": [
       "                                          title     type   duration\n",
       "service show_id                                                    \n",
       "Amazon  s1                  The Grand Seduction    Movie    113 min\n",
       "        s2                 Take Care Good Night    Movie    110 min\n",
       "        s3                 Secrets of Deception    Movie     74 min\n",
       "        s4                   Pink: Staying True    Movie     69 min\n",
       "        s5                        Monster Maker    Movie     45 min\n",
       "...                                         ...      ...        ...\n",
       "Hulu    s3069    Star Trek: The Original Series  TV Show  3 Seasons\n",
       "        s3070                Star Trek: Voyager  TV Show  7 Seasons\n",
       "        s3071                         The Fades  TV Show   1 Season\n",
       "        s3072                 The Twilight Zone  TV Show  5 Seasons\n",
       "        s3073               Tokyo Magnitude 8.0  TV Show   1 Season\n",
       "\n",
       "[22998 rows x 3 columns]"
      ]
     },
     "execution_count": 3,
     "metadata": {},
     "output_type": "execute_result"
    }
   ],
   "source": [
    "# Select only columns required for analysis\n",
    "amazon_df = amazon_df[['show_id', 'title', 'type', 'duration']]\n",
    "amazon_df.insert(0, 'service', 'Amazon') # insert a column in each dataset for the provider \n",
    "\n",
    "disney_df = disney_df[['show_id', 'title', 'type', 'duration']]\n",
    "disney_df.insert(0, 'service', 'Disney')\n",
    "\n",
    "netflix_df = netflix_df[['show_id', 'title', 'type', 'duration']]\n",
    "netflix_df.insert(0, 'service', 'Netflix')\n",
    "\n",
    "hulu_df = hulu_df[['show_id', 'title', 'type', 'duration']]\n",
    "hulu_df.insert(0, 'service', 'Hulu')\n",
    "\n",
    "# Tidying up the data by concatenating\n",
    "data = pd.concat([amazon_df, disney_df, netflix_df, hulu_df], ignore_index=True)\n",
    "data.set_index(['service','show_id'], inplace=True)\n",
    "data"
   ]
  },
  {
   "attachments": {},
   "cell_type": "markdown",
   "metadata": {},
   "source": [
    "In this dataset, the independent variables are `service` and `show_id`, the dependent variables are `title`, `type`, and `duration`."
   ]
  },
  {
   "attachments": {},
   "cell_type": "markdown",
   "metadata": {},
   "source": [
    "**2. Prepare the data for analysis**"
   ]
  },
  {
   "attachments": {},
   "cell_type": "markdown",
   "metadata": {},
   "source": [
    "2.1. First, we will split the DataFrame into two for each service based on the \"type\" column (movies or TV shows) by using pandas .groupby() function"
   ]
  },
  {
   "cell_type": "code",
   "execution_count": 4,
   "metadata": {},
   "outputs": [],
   "source": [
    "group = data.groupby([\"service\", \"type\"]) # split by \"service\" and \"type\" columns\n",
    "\n",
    "amazon_movies_df = group.get_group((\"Amazon\", \"Movie\")) # get corresponding dataset based on \"service\" and \"type\"\n",
    "amazon_tv_shows_df = group.get_group((\"Amazon\", \"TV Show\"))\n",
    "\n",
    "disney_movies_df = group.get_group((\"Disney\", \"Movie\"))\n",
    "disney_tv_shows_df = group.get_group((\"Disney\", \"TV Show\"))\n",
    "\n",
    "netflix_movies_df = group.get_group((\"Netflix\", \"Movie\"))\n",
    "netflix_tv_shows_df = group.get_group((\"Netflix\", \"TV Show\"))\n",
    "\n",
    "hulu_movies_df = group.get_group((\"Hulu\", \"Movie\"))\n",
    "hulu_tv_shows_df = group.get_group((\"Hulu\", \"TV Show\"))"
   ]
  },
  {
   "attachments": {},
   "cell_type": "markdown",
   "metadata": {},
   "source": [
    "2.2. Second, we will convert the durations of all new DataFrames from strings to integers by using pandas .replace() and .to_numeric() functions."
   ]
  },
  {
   "cell_type": "code",
   "execution_count": null,
   "metadata": {},
   "outputs": [],
   "source": [
    "# Step 1: Get rid of the everything in the 'duration' columns that is not a number (' min' or ' seasons',...) by replacing them with blanks\n",
    "\n",
    "amazon_movies_df['duration'] = amazon_movies_df['duration'].replace({' min': ''}, regex=True) # regular expression replacement\n",
    "amazon_tv_shows_df['duration'] = amazon_tv_shows_df['duration'].replace({' Season| Seasons|s': ''}, regex=True)\n",
    "\n",
    "disney_movies_df['duration'] = disney_movies_df['duration'].replace({' min': ''}, regex=True)\n",
    "disney_tv_shows_df['duration'] = disney_tv_shows_df['duration'].replace({' Season| Seasons|s': ''}, regex=True)\n",
    "\n",
    "hulu_movies_df['duration'] = hulu_movies_df['duration'].replace({' min': ''}, regex=True)\n",
    "hulu_tv_shows_df['duration'] = hulu_tv_shows_df['duration'].replace({' Season| Seasons|s': ''}, regex=True)\n",
    "\n",
    "netflix_movies_df['duration'] = netflix_movies_df['duration'].replace({' min': ''}, regex=True)\n",
    "netflix_tv_shows_df['duration'] = netflix_tv_shows_df['duration'].replace({' Season| Seasons|s': ''}, regex=True)\n",
    "\n",
    "\n",
    "# Step 2: Convert the durations into integers\n",
    "\n",
    "amazon_tv_shows_df['duration'] = pd.to_numeric(amazon_tv_shows_df['duration'], errors='coerce') # errors='coerce': any invalid data will be set as NaN\n",
    "amazon_movies_df['duration'] = pd.to_numeric(amazon_movies_df['duration'], errors='coerce')\n",
    "\n",
    "disney_tv_shows_df['duration'] = pd.to_numeric(disney_tv_shows_df['duration'], errors='coerce')\n",
    "disney_movies_df['duration'] = pd.to_numeric(disney_movies_df['duration'], errors='coerce')\n",
    "\n",
    "hulu_tv_shows_df['duration'] = pd.to_numeric(hulu_tv_shows_df['duration'], errors='coerce')\n",
    "hulu_movies_df['duration'] = pd.to_numeric(hulu_movies_df['duration'], errors='coerce')\n",
    "\n",
    "netflix_tv_shows_df['duration'] = pd.to_numeric(netflix_tv_shows_df['duration'], errors='coerce')\n",
    "netflix_movies_df['duration'] = pd.to_numeric(netflix_movies_df['duration'], errors='coerce')"
   ]
  },
  {
   "cell_type": "code",
   "execution_count": 6,
   "metadata": {},
   "outputs": [
    {
     "data": {
      "text/html": [
       "<div>\n",
       "<style scoped>\n",
       "    .dataframe tbody tr th:only-of-type {\n",
       "        vertical-align: middle;\n",
       "    }\n",
       "\n",
       "    .dataframe tbody tr th {\n",
       "        vertical-align: top;\n",
       "    }\n",
       "\n",
       "    .dataframe thead th {\n",
       "        text-align: right;\n",
       "    }\n",
       "</style>\n",
       "<table border=\"1\" class=\"dataframe\">\n",
       "  <thead>\n",
       "    <tr style=\"text-align: right;\">\n",
       "      <th></th>\n",
       "      <th></th>\n",
       "      <th>title</th>\n",
       "      <th>type</th>\n",
       "      <th>duration</th>\n",
       "    </tr>\n",
       "    <tr>\n",
       "      <th>service</th>\n",
       "      <th>show_id</th>\n",
       "      <th></th>\n",
       "      <th></th>\n",
       "      <th></th>\n",
       "    </tr>\n",
       "  </thead>\n",
       "  <tbody>\n",
       "    <tr>\n",
       "      <th rowspan=\"5\" valign=\"top\">Amazon</th>\n",
       "      <th>s1</th>\n",
       "      <td>The Grand Seduction</td>\n",
       "      <td>Movie</td>\n",
       "      <td>113</td>\n",
       "    </tr>\n",
       "    <tr>\n",
       "      <th>s2</th>\n",
       "      <td>Take Care Good Night</td>\n",
       "      <td>Movie</td>\n",
       "      <td>110</td>\n",
       "    </tr>\n",
       "    <tr>\n",
       "      <th>s3</th>\n",
       "      <td>Secrets of Deception</td>\n",
       "      <td>Movie</td>\n",
       "      <td>74</td>\n",
       "    </tr>\n",
       "    <tr>\n",
       "      <th>s4</th>\n",
       "      <td>Pink: Staying True</td>\n",
       "      <td>Movie</td>\n",
       "      <td>69</td>\n",
       "    </tr>\n",
       "    <tr>\n",
       "      <th>s5</th>\n",
       "      <td>Monster Maker</td>\n",
       "      <td>Movie</td>\n",
       "      <td>45</td>\n",
       "    </tr>\n",
       "  </tbody>\n",
       "</table>\n",
       "</div>"
      ],
      "text/plain": [
       "                                title   type  duration\n",
       "service show_id                                       \n",
       "Amazon  s1        The Grand Seduction  Movie       113\n",
       "        s2       Take Care Good Night  Movie       110\n",
       "        s3       Secrets of Deception  Movie        74\n",
       "        s4         Pink: Staying True  Movie        69\n",
       "        s5              Monster Maker  Movie        45"
      ]
     },
     "execution_count": 6,
     "metadata": {},
     "output_type": "execute_result"
    }
   ],
   "source": [
    "# Example\n",
    "amazon_movies_df.head()"
   ]
  },
  {
   "attachments": {},
   "cell_type": "markdown",
   "metadata": {},
   "source": [
    "**3. Analyze the processed data and answer the central question**"
   ]
  },
  {
   "attachments": {},
   "cell_type": "markdown",
   "metadata": {},
   "source": [
    "Question: The average duration and ratio between movies and TV shows of popular streaming services.\n",
    "\n",
    "We will answer this question by applying the .describe() function to every DataFrame corresponds to each service's movies and TV shows, which will return, among other statistics, the count and mean of each type. This will exclude any NaN datapoint (only movies or TV shows with an available duration will be counted for the sake of consistency)."
   ]
  },
  {
   "cell_type": "code",
   "execution_count": 7,
   "metadata": {},
   "outputs": [
    {
     "name": "stdout",
     "output_type": "stream",
     "text": [
      "       duration\n",
      "count    7814.0\n",
      "mean       91.3\n",
      "std        40.3\n",
      "min         0.0\n",
      "25%        75.0\n",
      "50%        91.0\n",
      "75%       106.0\n",
      "max       601.0\n",
      "       duration\n",
      "count    1854.0\n",
      "mean        1.7\n",
      "std         1.8\n",
      "min         1.0\n",
      "25%         1.0\n",
      "50%         1.0\n",
      "75%         2.0\n",
      "max        29.0\n"
     ]
    }
   ],
   "source": [
    "# Amazon\n",
    "print (amazon_movies_df.describe().round(1))\n",
    "print (amazon_tv_shows_df.describe().round(1))"
   ]
  },
  {
   "attachments": {},
   "cell_type": "markdown",
   "metadata": {},
   "source": [
    "---\n",
    "On Amazon Prime:\n",
    "- The average duration of movies is **91.3 minutes** while that of TV shows is **1.7 seasons**.\n",
    "- The ratio between TV shows and movies is 1854 : 7814 or **1 : 4.2**\n",
    "---"
   ]
  },
  {
   "cell_type": "code",
   "execution_count": 8,
   "metadata": {},
   "outputs": [
    {
     "name": "stdout",
     "output_type": "stream",
     "text": [
      "       duration\n",
      "count    1052.0\n",
      "mean       71.9\n",
      "std        40.6\n",
      "min         1.0\n",
      "25%        44.0\n",
      "50%        85.0\n",
      "75%        98.0\n",
      "max       183.0\n",
      "       duration\n",
      "count     398.0\n",
      "mean        2.1\n",
      "std         2.4\n",
      "min         1.0\n",
      "25%         1.0\n",
      "50%         1.0\n",
      "75%         2.0\n",
      "max        32.0\n"
     ]
    }
   ],
   "source": [
    "# Disney Plus\n",
    "print (disney_movies_df.describe().round(1))\n",
    "print (disney_tv_shows_df.describe().round(1))"
   ]
  },
  {
   "attachments": {},
   "cell_type": "markdown",
   "metadata": {},
   "source": [
    "---\n",
    "On Disney Plus:\n",
    "- The average duration of movies is **71.9 minutes** while that of TV shows is **2.1 seasons**.\n",
    "- The ratio between TV shows and movies is 398 : 1052 or **1 : 2.6**\n",
    "---"
   ]
  },
  {
   "cell_type": "code",
   "execution_count": 9,
   "metadata": {},
   "outputs": [
    {
     "name": "stdout",
     "output_type": "stream",
     "text": [
      "       duration\n",
      "count    1005.0\n",
      "mean       98.3\n",
      "std        21.2\n",
      "min         1.0\n",
      "25%        89.0\n",
      "50%        97.0\n",
      "75%       109.0\n",
      "max       192.0\n",
      "       duration\n",
      "count    1589.0\n",
      "mean        2.7\n",
      "std         3.2\n",
      "min         1.0\n",
      "25%         1.0\n",
      "50%         1.0\n",
      "75%         3.0\n",
      "max        34.0\n"
     ]
    }
   ],
   "source": [
    "# Hulu\n",
    "print (hulu_movies_df.describe().round(1))\n",
    "print (hulu_tv_shows_df.describe().round(1))"
   ]
  },
  {
   "attachments": {},
   "cell_type": "markdown",
   "metadata": {},
   "source": [
    "---\n",
    "On Hulu:\n",
    "- The average duration of movies is **98.3 minutes** while that of TV shows is **2.7 seasons**.\n",
    "- The ratio between TV shows and movies is 1589 : 1005 or **1 : 0.6**\n",
    "---"
   ]
  },
  {
   "cell_type": "code",
   "execution_count": 10,
   "metadata": {},
   "outputs": [
    {
     "name": "stdout",
     "output_type": "stream",
     "text": [
      "       duration\n",
      "count    6128.0\n",
      "mean       99.6\n",
      "std        28.3\n",
      "min         3.0\n",
      "25%        87.0\n",
      "50%        98.0\n",
      "75%       114.0\n",
      "max       312.0\n",
      "       duration\n",
      "count    2676.0\n",
      "mean        1.8\n",
      "std         1.6\n",
      "min         1.0\n",
      "25%         1.0\n",
      "50%         1.0\n",
      "75%         2.0\n",
      "max        17.0\n"
     ]
    }
   ],
   "source": [
    "# Netflix\n",
    "print (netflix_movies_df.describe().round(1))\n",
    "print (netflix_tv_shows_df.describe().round(1))"
   ]
  },
  {
   "attachments": {},
   "cell_type": "markdown",
   "metadata": {},
   "source": [
    "---\n",
    "On Netflix:\n",
    "- The average duration of movies is **99.6 minutes** while that of TV shows is **1.8 seasons**.\n",
    "- The ratio between TV shows and movies is 2676 : 6128 or **1 : 2.2**\n",
    "---"
   ]
  },
  {
   "cell_type": "code",
   "execution_count": 11,
   "metadata": {},
   "outputs": [
    {
     "name": "stdout",
     "output_type": "stream",
     "text": [
      "Overall movie duration: 90.3\n",
      "Overall TV show duration: 2.1\n",
      "Overall ratio between TV shows and movies: 6517 : 15999\n"
     ]
    }
   ],
   "source": [
    "# Get overall statistics\n",
    "\n",
    "overall_movie_duration = mean([amazon_movies_df['duration'].mean(), disney_movies_df['duration'].mean(), netflix_movies_df['duration'].mean(), hulu_movies_df['duration'].mean()])\n",
    "print (\"Overall movie duration:\", overall_movie_duration.round(1))\n",
    "\n",
    "overall_tv_show_duration = mean([amazon_tv_shows_df['duration'].mean(), disney_tv_shows_df['duration'].mean(), netflix_tv_shows_df['duration'].mean(), hulu_tv_shows_df['duration'].mean()])\n",
    "print (\"Overall TV show duration:\", overall_tv_show_duration.round(1))\n",
    "\n",
    "print (\"Overall ratio between TV shows and movies:\", (amazon_tv_shows_df['duration'].count()+disney_tv_shows_df['duration'].count()+netflix_tv_shows_df['duration'].count()+hulu_tv_shows_df['duration'].count()), \n",
    "       \":\", (amazon_movies_df['duration'].count()+disney_movies_df['duration'].count()+netflix_movies_df['duration'].count()+hulu_movies_df['duration'].count()))"
   ]
  },
  {
   "attachments": {},
   "cell_type": "markdown",
   "metadata": {},
   "source": [
    "---\n",
    "**Overall (across all platforms)**\n",
    "- The average duration of movies is **90.3 minutes** while that of TV shows is **2.1 seasons**\n",
    "- The ratio between TV shows and movies is 6517 : 15999 or **1 : 2.5**\n",
    "---"
   ]
  },
  {
   "attachments": {},
   "cell_type": "markdown",
   "metadata": {},
   "source": [
    "---\n",
    "**Some interesting information we have gathered from this project:**\n",
    "- The overall ratio between TV shows and movies of the streaming services indicates that movies tend to be produced more across platforms (by 2.5 times), except Hulu which focuses more on making TV shows (by 1.6 times)\n",
    "- Most streaming services have TV shows' duration around the 2-season mark, except Hulu's which is 2.7 seasons\n",
    "- Most streaming services have movies' duration from 90 to 100 minutes, except Disney Plus' which is only 71.2 minutes\n",
    "\n",
    "---"
   ]
  }
 ],
 "metadata": {
  "kernelspec": {
   "display_name": "base",
   "language": "python",
   "name": "python3"
  },
  "language_info": {
   "codemirror_mode": {
    "name": "ipython",
    "version": 3
   },
   "file_extension": ".py",
   "mimetype": "text/x-python",
   "name": "python",
   "nbconvert_exporter": "python",
   "pygments_lexer": "ipython3",
   "version": "3.9.16"
  },
  "orig_nbformat": 4,
  "vscode": {
   "interpreter": {
    "hash": "f40113dc4fdf81756918fd34af31faff485b77c2368c930b1931e285f9e175d4"
   }
  }
 },
 "nbformat": 4,
 "nbformat_minor": 2
}
